{
 "cells": [
  {
   "cell_type": "markdown",
   "id": "1067eb4d",
   "metadata": {},
   "source": [
    "Importing required libraries"
   ]
  },
  {
   "cell_type": "code",
   "execution_count": 1,
   "id": "3873d8de",
   "metadata": {},
   "outputs": [],
   "source": [
    "import numpy as np\n",
    "import pandas as pd\n",
    "import warnings\n",
    "warnings.filterwarnings('ignore')"
   ]
  },
  {
   "cell_type": "markdown",
   "id": "210a828f",
   "metadata": {},
   "source": [
    "# Read the books dataset"
   ]
  },
  {
   "cell_type": "code",
   "execution_count": 2,
   "id": "685f0250",
   "metadata": {},
   "outputs": [],
   "source": [
    "users_data=pd.read_csv(r'BX-Users.csv',encoding='Latin-1')"
   ]
  },
  {
   "cell_type": "code",
   "execution_count": 3,
   "id": "b442ede5",
   "metadata": {
    "jupyter": {
     "outputs_hidden": true
    }
   },
   "outputs": [
    {
     "data": {
      "text/html": [
       "<div>\n",
       "<style scoped>\n",
       "    .dataframe tbody tr th:only-of-type {\n",
       "        vertical-align: middle;\n",
       "    }\n",
       "\n",
       "    .dataframe tbody tr th {\n",
       "        vertical-align: top;\n",
       "    }\n",
       "\n",
       "    .dataframe thead th {\n",
       "        text-align: right;\n",
       "    }\n",
       "</style>\n",
       "<table border=\"1\" class=\"dataframe\">\n",
       "  <thead>\n",
       "    <tr style=\"text-align: right;\">\n",
       "      <th></th>\n",
       "      <th>user_id</th>\n",
       "      <th>Location</th>\n",
       "      <th>Age</th>\n",
       "    </tr>\n",
       "  </thead>\n",
       "  <tbody>\n",
       "    <tr>\n",
       "      <th>0</th>\n",
       "      <td>1</td>\n",
       "      <td>nyc, new york, usa</td>\n",
       "      <td>NaN</td>\n",
       "    </tr>\n",
       "    <tr>\n",
       "      <th>1</th>\n",
       "      <td>2</td>\n",
       "      <td>stockton, california, usa</td>\n",
       "      <td>18.0</td>\n",
       "    </tr>\n",
       "    <tr>\n",
       "      <th>2</th>\n",
       "      <td>3</td>\n",
       "      <td>moscow, yukon territory, russia</td>\n",
       "      <td>NaN</td>\n",
       "    </tr>\n",
       "    <tr>\n",
       "      <th>3</th>\n",
       "      <td>4</td>\n",
       "      <td>porto, v.n.gaia, portugal</td>\n",
       "      <td>17.0</td>\n",
       "    </tr>\n",
       "    <tr>\n",
       "      <th>4</th>\n",
       "      <td>5</td>\n",
       "      <td>farnborough, hants, united kingdom</td>\n",
       "      <td>NaN</td>\n",
       "    </tr>\n",
       "  </tbody>\n",
       "</table>\n",
       "</div>"
      ],
      "text/plain": [
       "  user_id                            Location   Age\n",
       "0       1                  nyc, new york, usa   NaN\n",
       "1       2           stockton, california, usa  18.0\n",
       "2       3     moscow, yukon territory, russia   NaN\n",
       "3       4           porto, v.n.gaia, portugal  17.0\n",
       "4       5  farnborough, hants, united kingdom   NaN"
      ]
     },
     "execution_count": 3,
     "metadata": {},
     "output_type": "execute_result"
    }
   ],
   "source": [
    "users_data.head()"
   ]
  },
  {
   "cell_type": "markdown",
   "id": "d9bc595c",
   "metadata": {},
   "source": [
    "Checking shape of dataset"
   ]
  },
  {
   "cell_type": "code",
   "execution_count": 4,
   "id": "79200404",
   "metadata": {
    "jupyter": {
     "outputs_hidden": true
    }
   },
   "outputs": [
    {
     "data": {
      "text/plain": [
       "(278859, 3)"
      ]
     },
     "execution_count": 4,
     "metadata": {},
     "output_type": "execute_result"
    }
   ],
   "source": [
    "users_data.shape"
   ]
  },
  {
   "cell_type": "markdown",
   "id": "75a20484",
   "metadata": {},
   "source": [
    "Check for null values"
   ]
  },
  {
   "cell_type": "code",
   "execution_count": 5,
   "id": "9417e311",
   "metadata": {
    "jupyter": {
     "outputs_hidden": true
    }
   },
   "outputs": [
    {
     "data": {
      "text/plain": [
       "user_id          0\n",
       "Location         1\n",
       "Age         110763\n",
       "dtype: int64"
      ]
     },
     "execution_count": 5,
     "metadata": {},
     "output_type": "execute_result"
    }
   ],
   "source": [
    "users_data.isnull().sum()"
   ]
  },
  {
   "cell_type": "markdown",
   "id": "1d403031",
   "metadata": {},
   "source": [
    "Replacing null values with zero in column age to avoid lose of valuable data"
   ]
  },
  {
   "cell_type": "code",
   "execution_count": 6,
   "id": "3d5ee8eb",
   "metadata": {},
   "outputs": [],
   "source": [
    "users_data['Age'].fillna(0,inplace=True)"
   ]
  },
  {
   "cell_type": "code",
   "execution_count": 7,
   "id": "a9b776d7",
   "metadata": {
    "jupyter": {
     "outputs_hidden": true
    }
   },
   "outputs": [
    {
     "data": {
      "text/plain": [
       "user_id     0\n",
       "Location    1\n",
       "Age         0\n",
       "dtype: int64"
      ]
     },
     "execution_count": 7,
     "metadata": {},
     "output_type": "execute_result"
    }
   ],
   "source": [
    "users_data.isnull().sum()"
   ]
  },
  {
   "cell_type": "markdown",
   "id": "8406f221",
   "metadata": {},
   "source": [
    "# Clean up NaN values\n",
    "Dropping null values"
   ]
  },
  {
   "cell_type": "code",
   "execution_count": 8,
   "id": "9697e517",
   "metadata": {},
   "outputs": [],
   "source": [
    "users_data1=users_data.dropna()"
   ]
  },
  {
   "cell_type": "code",
   "execution_count": 9,
   "id": "1bb61945",
   "metadata": {
    "jupyter": {
     "outputs_hidden": true
    }
   },
   "outputs": [
    {
     "data": {
      "text/plain": [
       "user_id     0\n",
       "Location    0\n",
       "Age         0\n",
       "dtype: int64"
      ]
     },
     "execution_count": 9,
     "metadata": {},
     "output_type": "execute_result"
    }
   ],
   "source": [
    "users_data1.isnull().sum()"
   ]
  },
  {
   "cell_type": "markdown",
   "id": "02d17d7a",
   "metadata": {},
   "source": [
    "Reading books data"
   ]
  },
  {
   "cell_type": "code",
   "execution_count": 10,
   "id": "35511602",
   "metadata": {},
   "outputs": [],
   "source": [
    "book_data=pd.read_csv(r\"BX-Books.csv\",encoding=\"latin-1\")"
   ]
  },
  {
   "cell_type": "code",
   "execution_count": 11,
   "id": "495682a9",
   "metadata": {
    "jupyter": {
     "outputs_hidden": true
    }
   },
   "outputs": [
    {
     "data": {
      "text/html": [
       "<div>\n",
       "<style scoped>\n",
       "    .dataframe tbody tr th:only-of-type {\n",
       "        vertical-align: middle;\n",
       "    }\n",
       "\n",
       "    .dataframe tbody tr th {\n",
       "        vertical-align: top;\n",
       "    }\n",
       "\n",
       "    .dataframe thead th {\n",
       "        text-align: right;\n",
       "    }\n",
       "</style>\n",
       "<table border=\"1\" class=\"dataframe\">\n",
       "  <thead>\n",
       "    <tr style=\"text-align: right;\">\n",
       "      <th></th>\n",
       "      <th>isbn</th>\n",
       "      <th>book_title</th>\n",
       "      <th>book_author</th>\n",
       "      <th>year_of_publication</th>\n",
       "      <th>publisher</th>\n",
       "    </tr>\n",
       "  </thead>\n",
       "  <tbody>\n",
       "    <tr>\n",
       "      <th>0</th>\n",
       "      <td>195153448</td>\n",
       "      <td>Classical Mythology</td>\n",
       "      <td>Mark P. O. Morford</td>\n",
       "      <td>2002</td>\n",
       "      <td>Oxford University Press</td>\n",
       "    </tr>\n",
       "    <tr>\n",
       "      <th>1</th>\n",
       "      <td>2005018</td>\n",
       "      <td>Clara Callan</td>\n",
       "      <td>Richard Bruce Wright</td>\n",
       "      <td>2001</td>\n",
       "      <td>HarperFlamingo Canada</td>\n",
       "    </tr>\n",
       "    <tr>\n",
       "      <th>2</th>\n",
       "      <td>60973129</td>\n",
       "      <td>Decision in Normandy</td>\n",
       "      <td>Carlo D'Este</td>\n",
       "      <td>1991</td>\n",
       "      <td>HarperPerennial</td>\n",
       "    </tr>\n",
       "    <tr>\n",
       "      <th>3</th>\n",
       "      <td>374157065</td>\n",
       "      <td>Flu: The Story of the Great Influenza Pandemic...</td>\n",
       "      <td>Gina Bari Kolata</td>\n",
       "      <td>1999</td>\n",
       "      <td>Farrar Straus Giroux</td>\n",
       "    </tr>\n",
       "    <tr>\n",
       "      <th>4</th>\n",
       "      <td>393045218</td>\n",
       "      <td>The Mummies of Urumchi</td>\n",
       "      <td>E. J. W. Barber</td>\n",
       "      <td>1999</td>\n",
       "      <td>W. W. Norton &amp;amp; Company</td>\n",
       "    </tr>\n",
       "  </tbody>\n",
       "</table>\n",
       "</div>"
      ],
      "text/plain": [
       "        isbn                                         book_title  \\\n",
       "0  195153448                                Classical Mythology   \n",
       "1    2005018                                       Clara Callan   \n",
       "2   60973129                               Decision in Normandy   \n",
       "3  374157065  Flu: The Story of the Great Influenza Pandemic...   \n",
       "4  393045218                             The Mummies of Urumchi   \n",
       "\n",
       "            book_author year_of_publication                   publisher  \n",
       "0    Mark P. O. Morford                2002     Oxford University Press  \n",
       "1  Richard Bruce Wright                2001       HarperFlamingo Canada  \n",
       "2          Carlo D'Este                1991             HarperPerennial  \n",
       "3      Gina Bari Kolata                1999        Farrar Straus Giroux  \n",
       "4       E. J. W. Barber                1999  W. W. Norton &amp; Company  "
      ]
     },
     "execution_count": 11,
     "metadata": {},
     "output_type": "execute_result"
    }
   ],
   "source": [
    "book_data.head()"
   ]
  },
  {
   "cell_type": "code",
   "execution_count": 12,
   "id": "47f740f9",
   "metadata": {
    "jupyter": {
     "outputs_hidden": true
    }
   },
   "outputs": [
    {
     "data": {
      "text/plain": [
       "isbn                   False\n",
       "book_title             False\n",
       "book_author             True\n",
       "year_of_publication    False\n",
       "publisher               True\n",
       "dtype: bool"
      ]
     },
     "execution_count": 12,
     "metadata": {},
     "output_type": "execute_result"
    }
   ],
   "source": [
    "book_data.isnull().any()"
   ]
  },
  {
   "cell_type": "code",
   "execution_count": 13,
   "id": "d5ee343a",
   "metadata": {
    "jupyter": {
     "outputs_hidden": true
    }
   },
   "outputs": [
    {
     "data": {
      "text/plain": [
       "isbn                   0\n",
       "book_title             0\n",
       "book_author            1\n",
       "year_of_publication    0\n",
       "publisher              2\n",
       "dtype: int64"
      ]
     },
     "execution_count": 13,
     "metadata": {},
     "output_type": "execute_result"
    }
   ],
   "source": [
    "book_data.isnull().sum()"
   ]
  },
  {
   "cell_type": "code",
   "execution_count": 14,
   "id": "6aa3a31b",
   "metadata": {},
   "outputs": [],
   "source": [
    "book_data1=book_data.dropna()"
   ]
  },
  {
   "cell_type": "code",
   "execution_count": 15,
   "id": "7951c11e",
   "metadata": {
    "jupyter": {
     "outputs_hidden": true
    }
   },
   "outputs": [
    {
     "data": {
      "text/plain": [
       "isbn                   False\n",
       "book_title             False\n",
       "book_author            False\n",
       "year_of_publication    False\n",
       "publisher              False\n",
       "dtype: bool"
      ]
     },
     "execution_count": 15,
     "metadata": {},
     "output_type": "execute_result"
    }
   ],
   "source": [
    "book_data1.isnull().any()"
   ]
  },
  {
   "cell_type": "markdown",
   "id": "0babc424",
   "metadata": {},
   "source": [
    "# Read the data where ratings are given by users\n",
    "\n",
    "(reading only first 10000 rows to avoid memory issue)"
   ]
  },
  {
   "cell_type": "code",
   "execution_count": 16,
   "id": "0e9dc448",
   "metadata": {},
   "outputs": [],
   "source": [
    "book_ratings=pd.read_csv(r\"BX-Book-Ratings.csv\",encoding='latin-1', nrows=10000)"
   ]
  },
  {
   "cell_type": "code",
   "execution_count": 17,
   "id": "013b7230",
   "metadata": {
    "jupyter": {
     "outputs_hidden": true
    }
   },
   "outputs": [
    {
     "data": {
      "text/html": [
       "<div>\n",
       "<style scoped>\n",
       "    .dataframe tbody tr th:only-of-type {\n",
       "        vertical-align: middle;\n",
       "    }\n",
       "\n",
       "    .dataframe tbody tr th {\n",
       "        vertical-align: top;\n",
       "    }\n",
       "\n",
       "    .dataframe thead th {\n",
       "        text-align: right;\n",
       "    }\n",
       "</style>\n",
       "<table border=\"1\" class=\"dataframe\">\n",
       "  <thead>\n",
       "    <tr style=\"text-align: right;\">\n",
       "      <th></th>\n",
       "      <th>user_id</th>\n",
       "      <th>isbn</th>\n",
       "      <th>rating</th>\n",
       "    </tr>\n",
       "  </thead>\n",
       "  <tbody>\n",
       "    <tr>\n",
       "      <th>0</th>\n",
       "      <td>276725</td>\n",
       "      <td>034545104X</td>\n",
       "      <td>0</td>\n",
       "    </tr>\n",
       "    <tr>\n",
       "      <th>1</th>\n",
       "      <td>276726</td>\n",
       "      <td>155061224</td>\n",
       "      <td>5</td>\n",
       "    </tr>\n",
       "    <tr>\n",
       "      <th>2</th>\n",
       "      <td>276727</td>\n",
       "      <td>446520802</td>\n",
       "      <td>0</td>\n",
       "    </tr>\n",
       "    <tr>\n",
       "      <th>3</th>\n",
       "      <td>276729</td>\n",
       "      <td>052165615X</td>\n",
       "      <td>3</td>\n",
       "    </tr>\n",
       "    <tr>\n",
       "      <th>4</th>\n",
       "      <td>276729</td>\n",
       "      <td>521795028</td>\n",
       "      <td>6</td>\n",
       "    </tr>\n",
       "  </tbody>\n",
       "</table>\n",
       "</div>"
      ],
      "text/plain": [
       "   user_id        isbn  rating\n",
       "0   276725  034545104X       0\n",
       "1   276726   155061224       5\n",
       "2   276727   446520802       0\n",
       "3   276729  052165615X       3\n",
       "4   276729   521795028       6"
      ]
     },
     "execution_count": 17,
     "metadata": {},
     "output_type": "execute_result"
    }
   ],
   "source": [
    "book_ratings.head()"
   ]
  },
  {
   "cell_type": "code",
   "execution_count": 18,
   "id": "adcafb84",
   "metadata": {
    "jupyter": {
     "outputs_hidden": true
    }
   },
   "outputs": [
    {
     "data": {
      "text/plain": [
       "user_id    False\n",
       "isbn       False\n",
       "rating     False\n",
       "dtype: bool"
      ]
     },
     "execution_count": 18,
     "metadata": {},
     "output_type": "execute_result"
    }
   ],
   "source": [
    "book_ratings.isnull().any()"
   ]
  },
  {
   "cell_type": "code",
   "execution_count": 19,
   "id": "91adcf5f",
   "metadata": {
    "jupyter": {
     "outputs_hidden": true
    }
   },
   "outputs": [
    {
     "data": {
      "text/html": [
       "<div>\n",
       "<style scoped>\n",
       "    .dataframe tbody tr th:only-of-type {\n",
       "        vertical-align: middle;\n",
       "    }\n",
       "\n",
       "    .dataframe tbody tr th {\n",
       "        vertical-align: top;\n",
       "    }\n",
       "\n",
       "    .dataframe thead th {\n",
       "        text-align: right;\n",
       "    }\n",
       "</style>\n",
       "<table border=\"1\" class=\"dataframe\">\n",
       "  <thead>\n",
       "    <tr style=\"text-align: right;\">\n",
       "      <th></th>\n",
       "      <th>user_id</th>\n",
       "      <th>rating</th>\n",
       "    </tr>\n",
       "  </thead>\n",
       "  <tbody>\n",
       "    <tr>\n",
       "      <th>count</th>\n",
       "      <td>10000.000000</td>\n",
       "      <td>10000.000000</td>\n",
       "    </tr>\n",
       "    <tr>\n",
       "      <th>mean</th>\n",
       "      <td>265844.379600</td>\n",
       "      <td>1.974700</td>\n",
       "    </tr>\n",
       "    <tr>\n",
       "      <th>std</th>\n",
       "      <td>56937.189618</td>\n",
       "      <td>3.424884</td>\n",
       "    </tr>\n",
       "    <tr>\n",
       "      <th>min</th>\n",
       "      <td>2.000000</td>\n",
       "      <td>0.000000</td>\n",
       "    </tr>\n",
       "    <tr>\n",
       "      <th>25%</th>\n",
       "      <td>277478.000000</td>\n",
       "      <td>0.000000</td>\n",
       "    </tr>\n",
       "    <tr>\n",
       "      <th>50%</th>\n",
       "      <td>278418.000000</td>\n",
       "      <td>0.000000</td>\n",
       "    </tr>\n",
       "    <tr>\n",
       "      <th>75%</th>\n",
       "      <td>278418.000000</td>\n",
       "      <td>4.000000</td>\n",
       "    </tr>\n",
       "    <tr>\n",
       "      <th>max</th>\n",
       "      <td>278854.000000</td>\n",
       "      <td>10.000000</td>\n",
       "    </tr>\n",
       "  </tbody>\n",
       "</table>\n",
       "</div>"
      ],
      "text/plain": [
       "             user_id        rating\n",
       "count   10000.000000  10000.000000\n",
       "mean   265844.379600      1.974700\n",
       "std     56937.189618      3.424884\n",
       "min         2.000000      0.000000\n",
       "25%    277478.000000      0.000000\n",
       "50%    278418.000000      0.000000\n",
       "75%    278418.000000      4.000000\n",
       "max    278854.000000     10.000000"
      ]
     },
     "execution_count": 19,
     "metadata": {},
     "output_type": "execute_result"
    }
   ],
   "source": [
    "book_ratings.describe()"
   ]
  },
  {
   "cell_type": "markdown",
   "id": "5cc6e046",
   "metadata": {},
   "source": [
    "Merging the dataframes"
   ]
  },
  {
   "cell_type": "code",
   "execution_count": 20,
   "id": "62a49b74",
   "metadata": {},
   "outputs": [],
   "source": [
    "Dataframe=pd.merge(book_ratings,book_data1, on='isbn')"
   ]
  },
  {
   "cell_type": "code",
   "execution_count": 21,
   "id": "d13f8aac",
   "metadata": {
    "jupyter": {
     "outputs_hidden": true
    }
   },
   "outputs": [
    {
     "data": {
      "text/html": [
       "<div>\n",
       "<style scoped>\n",
       "    .dataframe tbody tr th:only-of-type {\n",
       "        vertical-align: middle;\n",
       "    }\n",
       "\n",
       "    .dataframe tbody tr th {\n",
       "        vertical-align: top;\n",
       "    }\n",
       "\n",
       "    .dataframe thead th {\n",
       "        text-align: right;\n",
       "    }\n",
       "</style>\n",
       "<table border=\"1\" class=\"dataframe\">\n",
       "  <thead>\n",
       "    <tr style=\"text-align: right;\">\n",
       "      <th></th>\n",
       "      <th>user_id</th>\n",
       "      <th>isbn</th>\n",
       "      <th>rating</th>\n",
       "      <th>book_title</th>\n",
       "      <th>book_author</th>\n",
       "      <th>year_of_publication</th>\n",
       "      <th>publisher</th>\n",
       "    </tr>\n",
       "  </thead>\n",
       "  <tbody>\n",
       "    <tr>\n",
       "      <th>0</th>\n",
       "      <td>276725</td>\n",
       "      <td>034545104X</td>\n",
       "      <td>0</td>\n",
       "      <td>Flesh Tones: A Novel</td>\n",
       "      <td>M. J. Rose</td>\n",
       "      <td>2002</td>\n",
       "      <td>Ballantine Books</td>\n",
       "    </tr>\n",
       "    <tr>\n",
       "      <th>1</th>\n",
       "      <td>276726</td>\n",
       "      <td>155061224</td>\n",
       "      <td>5</td>\n",
       "      <td>Rites of Passage</td>\n",
       "      <td>Judith Rae</td>\n",
       "      <td>2001</td>\n",
       "      <td>Heinle</td>\n",
       "    </tr>\n",
       "    <tr>\n",
       "      <th>2</th>\n",
       "      <td>276727</td>\n",
       "      <td>446520802</td>\n",
       "      <td>0</td>\n",
       "      <td>The Notebook</td>\n",
       "      <td>Nicholas Sparks</td>\n",
       "      <td>1996</td>\n",
       "      <td>Warner Books</td>\n",
       "    </tr>\n",
       "    <tr>\n",
       "      <th>3</th>\n",
       "      <td>278418</td>\n",
       "      <td>446520802</td>\n",
       "      <td>0</td>\n",
       "      <td>The Notebook</td>\n",
       "      <td>Nicholas Sparks</td>\n",
       "      <td>1996</td>\n",
       "      <td>Warner Books</td>\n",
       "    </tr>\n",
       "    <tr>\n",
       "      <th>4</th>\n",
       "      <td>276729</td>\n",
       "      <td>052165615X</td>\n",
       "      <td>3</td>\n",
       "      <td>Help!: Level 1</td>\n",
       "      <td>Philip Prowse</td>\n",
       "      <td>1999</td>\n",
       "      <td>Cambridge University Press</td>\n",
       "    </tr>\n",
       "  </tbody>\n",
       "</table>\n",
       "</div>"
      ],
      "text/plain": [
       "   user_id        isbn  rating            book_title      book_author  \\\n",
       "0   276725  034545104X       0  Flesh Tones: A Novel       M. J. Rose   \n",
       "1   276726   155061224       5      Rites of Passage       Judith Rae   \n",
       "2   276727   446520802       0          The Notebook  Nicholas Sparks   \n",
       "3   278418   446520802       0          The Notebook  Nicholas Sparks   \n",
       "4   276729  052165615X       3        Help!: Level 1    Philip Prowse   \n",
       "\n",
       "  year_of_publication                   publisher  \n",
       "0                2002            Ballantine Books  \n",
       "1                2001                      Heinle  \n",
       "2                1996                Warner Books  \n",
       "3                1996                Warner Books  \n",
       "4                1999  Cambridge University Press  "
      ]
     },
     "execution_count": 21,
     "metadata": {},
     "output_type": "execute_result"
    }
   ],
   "source": [
    "Dataframe.head()"
   ]
  },
  {
   "cell_type": "markdown",
   "id": "f83c32ec",
   "metadata": {},
   "source": [
    "# Take a quick look at the number of unique users and books"
   ]
  },
  {
   "cell_type": "code",
   "execution_count": 22,
   "id": "14e1e72a",
   "metadata": {},
   "outputs": [],
   "source": [
    "n_users=Dataframe.user_id.nunique()\n",
    "n_books=Dataframe.isbn.nunique()"
   ]
  },
  {
   "cell_type": "code",
   "execution_count": 23,
   "id": "38c05364",
   "metadata": {
    "jupyter": {
     "outputs_hidden": true
    }
   },
   "outputs": [
    {
     "name": "stdout",
     "output_type": "stream",
     "text": [
      "Number of users: 828\n",
      "Number of books: 8051\n"
     ]
    }
   ],
   "source": [
    "print(\"Number of users:\",str(n_users))\n",
    "print(\"Number of books:\",str(n_books))"
   ]
  },
  {
   "cell_type": "markdown",
   "id": "1fdc7adc",
   "metadata": {},
   "source": [
    "# Convert ISBN variables to numeric numbers in the correct order"
   ]
  },
  {
   "cell_type": "code",
   "execution_count": 24,
   "id": "432d8600",
   "metadata": {},
   "outputs": [],
   "source": [
    "isbnLIST=Dataframe.isbn.unique()"
   ]
  },
  {
   "cell_type": "code",
   "execution_count": 25,
   "id": "6345422c",
   "metadata": {
    "jupyter": {
     "outputs_hidden": true
    }
   },
   "outputs": [
    {
     "data": {
      "text/plain": [
       "array(['034545104X', '155061224', '446520802', ..., '425098834',\n",
       "       '425163407', '425164403'], dtype=object)"
      ]
     },
     "execution_count": 25,
     "metadata": {},
     "output_type": "execute_result"
    }
   ],
   "source": [
    "isbnLIST"
   ]
  },
  {
   "cell_type": "code",
   "execution_count": 26,
   "id": "1b097d85",
   "metadata": {
    "jupyter": {
     "outputs_hidden": true
    }
   },
   "outputs": [
    {
     "name": "stdout",
     "output_type": "stream",
     "text": [
      "Length of isbn list 8051\n"
     ]
    }
   ],
   "source": [
    "print('Length of isbn list', len(isbnLIST))"
   ]
  },
  {
   "cell_type": "code",
   "execution_count": 27,
   "id": "173eb1ee",
   "metadata": {},
   "outputs": [],
   "source": [
    "def get_isbn_numeric_id(isbn):\n",
    "    item_index=np.where(isbnLIST==isbn)\n",
    "    return item_index[0][0]"
   ]
  },
  {
   "cell_type": "markdown",
   "id": "ac03ba9e",
   "metadata": {},
   "source": [
    "# Convert the user_id variable to numeric numbers in the correct order"
   ]
  },
  {
   "cell_type": "code",
   "execution_count": 28,
   "id": "b248a5ae",
   "metadata": {},
   "outputs": [],
   "source": [
    "userid_list=Dataframe.user_id.unique()"
   ]
  },
  {
   "cell_type": "code",
   "execution_count": 29,
   "id": "c9e613a9",
   "metadata": {
    "jupyter": {
     "outputs_hidden": true
    }
   },
   "outputs": [
    {
     "data": {
      "text/plain": [
       "array([276725, 276726, 276727, 278418, 276729, 276733, 276744, 276746,\n",
       "       277427, 278026, 276747, 278843, 276748, 276751, 276754, 276964,\n",
       "       276755,     99, 276762, 276772, 276774, 276780, 276786, 276788,\n",
       "       278356, 276796, 277195,    232, 276798, 277375, 276800, 278100,\n",
       "       276804, 276808, 276811, 276904, 278314, 276813, 276814, 276817,\n",
       "       276820, 276822, 278554, 276828, 277681, 276830, 276832, 277143,\n",
       "       276833, 276835, 276837, 276838, 276840, 278633, 276847, 276861,\n",
       "       276848, 276936, 276850, 277639, 276852, 276853, 276854, 276856,\n",
       "       276859, 276862, 276866, 278778, 278249, 276869, 278251, 276872,\n",
       "       276875, 277712, 276878, 276884, 276887, 276888, 276889, 277523,\n",
       "       277710, 276890, 276896, 278194, 276905, 276911, 276912, 276915,\n",
       "       276916, 276925, 277623, 277923, 277413, 277439, 277752, 277965,\n",
       "          243, 277589, 277648, 277689, 278137, 278221, 278390,     67,\n",
       "       276939, 276954, 277042, 277157, 277378, 277478, 277530, 277932,\n",
       "       278176, 278373, 278514,     14,    193,    242,     68, 276927,\n",
       "       276928, 276929, 277253, 278675, 277882, 278162, 278637, 276949,\n",
       "       276950, 276953, 277743,     26, 276957, 278582, 276963, 278774,\n",
       "       276975, 276984, 278188, 277791, 276986, 276988, 276989, 276994,\n",
       "       278563, 276997, 276998, 277002, 277009, 277010, 277622, 277012,\n",
       "       278825, 277018, 277019, 277023, 277028, 277031, 277032, 277035,\n",
       "       277036, 277040, 277928, 278483, 278773, 278535, 277466, 278220,\n",
       "       277048, 277051, 277053, 277056, 277065, 277072, 277073, 277079,\n",
       "       277085, 277087, 277094, 277096, 277107, 277109, 277114, 277116,\n",
       "       277123,    236, 277124, 278079, 278096, 277261, 277525, 277629,\n",
       "       278698, 277128, 277134, 277135, 277139, 277142, 277155, 278346,\n",
       "       278144, 277165, 277168, 277922, 278333,     51, 277170, 278740,\n",
       "       278019, 277171, 278259, 278501, 277595, 277722, 278769, 277179,\n",
       "       277838, 277180, 277183, 277929, 277186, 277187, 278565,    135,\n",
       "       277188, 277189, 278529, 277641,     23, 278422, 277469, 278552,\n",
       "       277915, 278243, 278342, 277832, 277196, 277197, 277235, 277203,\n",
       "       278238, 277205, 277212, 277411, 277220, 277228, 277229, 277230,\n",
       "       277231, 277962, 277237, 277240, 277242, 277243, 277244, 277807,\n",
       "       277245, 277535, 278007, 277246, 277517, 277901, 278075, 277256,\n",
       "       277257, 277262, 277265, 277269, 277271, 277272, 277274, 277281,\n",
       "       277284, 277285, 277288, 277291, 277292, 277293, 277314, 277315,\n",
       "       278692,    165, 277317, 277330, 277338, 277340, 277341, 277343,\n",
       "       277348, 277351, 277353, 277359, 277363, 277959, 277364, 277367,\n",
       "       277374, 277462, 277937, 278350, 278556, 277879, 277379, 277380,\n",
       "       277388, 277389, 277397, 277400, 277402, 277405, 277408, 277424,\n",
       "           75, 277803, 277958, 278541, 278798, 278048, 278202, 278469,\n",
       "       277744, 277776, 277812, 277502, 277756, 277798, 277987, 277764,\n",
       "       278465, 278672, 278503, 277432, 277433, 277434, 277435, 277436,\n",
       "       278524, 278254,    114, 277444, 277453, 277457, 278854, 278014,\n",
       "       277470, 277471, 277473, 277474, 278536,      9, 277691, 278723,\n",
       "       277554,     39, 278559, 278832, 277479, 277486, 277488, 277506,\n",
       "       277508, 277509, 277513, 277514, 277518, 277519, 277662, 277526,\n",
       "       277527, 277528, 277529, 277790, 277532, 277533, 277538, 277544,\n",
       "       277547, 277548, 278008, 278525, 277556, 277559, 277560, 277562,\n",
       "       277563, 277565, 277568, 277569, 278819, 277574, 277575, 278431,\n",
       "       277579, 277585, 277586, 277588, 277594, 277596, 277598, 277601,\n",
       "       277605, 277610, 277619, 277627, 277632, 277633, 277636, 278002,\n",
       "       277877, 277705, 278325, 277954, 278257, 278361, 277646, 277647,\n",
       "       277945, 277650, 277651, 278522, 277657, 277660, 277665, 277680,\n",
       "       277682, 277687, 277696, 277697, 277698,     91, 277700, 277701,\n",
       "       277706, 278177, 277711, 277714, 277720, 277727, 277728, 277737,\n",
       "       277740, 277746, 277748, 277759, 277761, 277765, 277808, 277767,\n",
       "       277768, 277769, 277774, 277775, 277777, 277778, 278663, 277779,\n",
       "       277781, 277782, 277783, 277827, 277828,    185, 277784, 277786,\n",
       "       277787, 277814, 277788, 277793, 277794, 277795, 277797, 277799,\n",
       "       277800, 277801, 277802, 277809, 277811, 277813, 277824, 277823,\n",
       "       277844, 277816, 277817, 277818, 277819, 277820, 277825, 277826,\n",
       "       277830, 277831, 277833, 277834, 277835, 277837, 277840, 277841,\n",
       "       277842, 277843, 277845, 277864, 277872, 277873, 277884, 277888,\n",
       "       277997, 277891, 277892, 277894, 277895, 277898, 277938, 277903,\n",
       "       277904, 277908, 277909, 277911, 277913, 277918, 277919, 277921,\n",
       "       278755,     95,    125, 277930, 278694, 277946, 277953, 277964,\n",
       "           16, 277969, 277975, 277978, 277982, 277984, 277988, 277989,\n",
       "       277992, 277996, 277998,    207, 278683, 278009, 278012, 278017,\n",
       "       278020, 278021, 278022, 278023, 278024, 278030, 278034, 278043,\n",
       "       278044, 278054, 278056, 278058, 278063, 278064, 278065, 278066,\n",
       "       278069, 278070, 278074, 278534, 278085, 278089, 278092, 278094,\n",
       "       278095, 278098, 278104, 278106, 278107, 278543, 278110, 278111,\n",
       "       278112, 278117, 278119, 278120, 278122, 278131, 278545, 278586,\n",
       "       278653, 278139, 278140, 278181, 278148, 278149, 278153, 278561,\n",
       "       278155, 278156, 278158, 278159, 278160, 278161, 278167, 278168,\n",
       "       278172, 278183, 278184, 278185,     44, 278411, 278193, 278263,\n",
       "       278197, 278199, 278200,    224, 278203, 278204, 278207, 278209,\n",
       "       278212, 278213, 278215, 278216, 278218, 278224, 278227, 278235,\n",
       "       278237, 278244, 278245, 278246, 278248, 278250, 278253, 278255,\n",
       "       278260, 278264, 278270, 278274, 278279, 278280, 278297, 278300,\n",
       "       278302, 278307, 278311, 278316, 278319, 278328, 278330, 278334,\n",
       "       278336,    144, 278345, 278355, 278357, 278358, 278364, 278365,\n",
       "       278368, 278376, 278377, 278378, 278388, 278389, 278394, 278396,\n",
       "       278398, 278400, 278401, 278409, 278452, 278849, 278506,    169,\n",
       "       278648, 278767, 278539,     17, 278641,     69, 278432, 278435,\n",
       "       278439, 278444, 278446, 278449, 278450, 278458, 278459, 278461,\n",
       "       278462, 278466, 278474, 278475, 278479, 278487, 278488, 278490,\n",
       "       278491, 278492, 278500, 278510, 278512, 278515, 278520, 278528,\n",
       "       278531, 278533, 278813, 278537, 278538, 278540, 278542, 278550,\n",
       "       278551, 278568, 278569, 278571, 278573, 278836, 278597, 278601,\n",
       "       278610, 278615, 278620, 278621, 278634, 278636, 278644, 278645,\n",
       "       278650, 278652, 278659, 278665, 278668, 278669, 278681, 278710,\n",
       "       278713, 278714, 278715, 278720, 278721, 278724, 278729, 278731,\n",
       "       278732, 278747, 278750, 278752, 278759, 278760, 278771, 278772,\n",
       "       278777, 278781, 278782, 278784, 278786, 278788, 278789, 278795,\n",
       "       278796, 278800, 278807, 278815, 278818, 278820, 278824, 278828,\n",
       "       278831, 278838, 278844, 278846, 278851, 278852,      2,      8,\n",
       "           10,     12,     19,     20,     22,     32,     36,     42,\n",
       "           53,     56,     64,     70,     73,     77,     78,     79,\n",
       "           81,     82,     83,     85,     86,     87,     88,     92,\n",
       "           97,    102,    107,    109,    110,    129,    132,    133,\n",
       "          139,    141,    151,    160,    162,    176,    178,    183,\n",
       "          190,    199,    202,    204,    212,    215,    217,    226,\n",
       "          228,    230,    237,    241], dtype=int64)"
      ]
     },
     "execution_count": 29,
     "metadata": {},
     "output_type": "execute_result"
    }
   ],
   "source": [
    "userid_list"
   ]
  },
  {
   "cell_type": "code",
   "execution_count": 30,
   "id": "5211417f",
   "metadata": {
    "jupyter": {
     "outputs_hidden": true
    }
   },
   "outputs": [
    {
     "name": "stdout",
     "output_type": "stream",
     "text": [
      "length of user-id: 828\n"
     ]
    }
   ],
   "source": [
    "print(\"length of user-id:\",len(userid_list))"
   ]
  },
  {
   "cell_type": "code",
   "execution_count": 31,
   "id": "5936d668",
   "metadata": {},
   "outputs": [],
   "source": [
    "def get_userid_numeric(user_id):\n",
    "    userid_index=np.where(userid_list==user_id)\n",
    "    return userid_index[0][0]"
   ]
  },
  {
   "cell_type": "markdown",
   "id": "cc057e70",
   "metadata": {},
   "source": [
    "# Convert both user_id and ISBN to the ordered list, i.e., from 0...n-1"
   ]
  },
  {
   "cell_type": "code",
   "execution_count": 32,
   "id": "f028daec",
   "metadata": {},
   "outputs": [],
   "source": [
    "Dataframe['user_id_ordered']=Dataframe['user_id'].apply(get_userid_numeric)"
   ]
  },
  {
   "cell_type": "code",
   "execution_count": 33,
   "id": "d95f87f8",
   "metadata": {
    "jupyter": {
     "outputs_hidden": true
    }
   },
   "outputs": [
    {
     "data": {
      "text/plain": [
       "0        0\n",
       "1        1\n",
       "2        2\n",
       "3        3\n",
       "4        4\n",
       "        ..\n",
       "8696    96\n",
       "8697    96\n",
       "8698    96\n",
       "8699    96\n",
       "8700    96\n",
       "Name: user_id_ordered, Length: 8701, dtype: int64"
      ]
     },
     "execution_count": 33,
     "metadata": {},
     "output_type": "execute_result"
    }
   ],
   "source": [
    "Dataframe['user_id_ordered']"
   ]
  },
  {
   "cell_type": "code",
   "execution_count": 34,
   "id": "2a3b6bb2",
   "metadata": {},
   "outputs": [],
   "source": [
    "Dataframe['isbn_ordered']=Dataframe['isbn'].apply(get_isbn_numeric_id)"
   ]
  },
  {
   "cell_type": "code",
   "execution_count": 35,
   "id": "74eb1866",
   "metadata": {
    "jupyter": {
     "outputs_hidden": true
    }
   },
   "outputs": [
    {
     "data": {
      "text/plain": [
       "0          0\n",
       "1          1\n",
       "2          2\n",
       "3          2\n",
       "4          3\n",
       "        ... \n",
       "8696    8046\n",
       "8697    8047\n",
       "8698    8048\n",
       "8699    8049\n",
       "8700    8050\n",
       "Name: isbn_ordered, Length: 8701, dtype: int64"
      ]
     },
     "execution_count": 35,
     "metadata": {},
     "output_type": "execute_result"
    }
   ],
   "source": [
    "Dataframe['isbn_ordered']"
   ]
  },
  {
   "cell_type": "code",
   "execution_count": 36,
   "id": "697a0cfb",
   "metadata": {
    "jupyter": {
     "outputs_hidden": true
    }
   },
   "outputs": [
    {
     "data": {
      "text/html": [
       "<div>\n",
       "<style scoped>\n",
       "    .dataframe tbody tr th:only-of-type {\n",
       "        vertical-align: middle;\n",
       "    }\n",
       "\n",
       "    .dataframe tbody tr th {\n",
       "        vertical-align: top;\n",
       "    }\n",
       "\n",
       "    .dataframe thead th {\n",
       "        text-align: right;\n",
       "    }\n",
       "</style>\n",
       "<table border=\"1\" class=\"dataframe\">\n",
       "  <thead>\n",
       "    <tr style=\"text-align: right;\">\n",
       "      <th></th>\n",
       "      <th>user_id</th>\n",
       "      <th>isbn</th>\n",
       "      <th>rating</th>\n",
       "      <th>book_title</th>\n",
       "      <th>book_author</th>\n",
       "      <th>year_of_publication</th>\n",
       "      <th>publisher</th>\n",
       "      <th>user_id_ordered</th>\n",
       "      <th>isbn_ordered</th>\n",
       "    </tr>\n",
       "  </thead>\n",
       "  <tbody>\n",
       "    <tr>\n",
       "      <th>0</th>\n",
       "      <td>276725</td>\n",
       "      <td>034545104X</td>\n",
       "      <td>0</td>\n",
       "      <td>Flesh Tones: A Novel</td>\n",
       "      <td>M. J. Rose</td>\n",
       "      <td>2002</td>\n",
       "      <td>Ballantine Books</td>\n",
       "      <td>0</td>\n",
       "      <td>0</td>\n",
       "    </tr>\n",
       "    <tr>\n",
       "      <th>1</th>\n",
       "      <td>276726</td>\n",
       "      <td>155061224</td>\n",
       "      <td>5</td>\n",
       "      <td>Rites of Passage</td>\n",
       "      <td>Judith Rae</td>\n",
       "      <td>2001</td>\n",
       "      <td>Heinle</td>\n",
       "      <td>1</td>\n",
       "      <td>1</td>\n",
       "    </tr>\n",
       "    <tr>\n",
       "      <th>2</th>\n",
       "      <td>276727</td>\n",
       "      <td>446520802</td>\n",
       "      <td>0</td>\n",
       "      <td>The Notebook</td>\n",
       "      <td>Nicholas Sparks</td>\n",
       "      <td>1996</td>\n",
       "      <td>Warner Books</td>\n",
       "      <td>2</td>\n",
       "      <td>2</td>\n",
       "    </tr>\n",
       "    <tr>\n",
       "      <th>3</th>\n",
       "      <td>278418</td>\n",
       "      <td>446520802</td>\n",
       "      <td>0</td>\n",
       "      <td>The Notebook</td>\n",
       "      <td>Nicholas Sparks</td>\n",
       "      <td>1996</td>\n",
       "      <td>Warner Books</td>\n",
       "      <td>3</td>\n",
       "      <td>2</td>\n",
       "    </tr>\n",
       "    <tr>\n",
       "      <th>4</th>\n",
       "      <td>276729</td>\n",
       "      <td>052165615X</td>\n",
       "      <td>3</td>\n",
       "      <td>Help!: Level 1</td>\n",
       "      <td>Philip Prowse</td>\n",
       "      <td>1999</td>\n",
       "      <td>Cambridge University Press</td>\n",
       "      <td>4</td>\n",
       "      <td>3</td>\n",
       "    </tr>\n",
       "  </tbody>\n",
       "</table>\n",
       "</div>"
      ],
      "text/plain": [
       "   user_id        isbn  rating            book_title      book_author  \\\n",
       "0   276725  034545104X       0  Flesh Tones: A Novel       M. J. Rose   \n",
       "1   276726   155061224       5      Rites of Passage       Judith Rae   \n",
       "2   276727   446520802       0          The Notebook  Nicholas Sparks   \n",
       "3   278418   446520802       0          The Notebook  Nicholas Sparks   \n",
       "4   276729  052165615X       3        Help!: Level 1    Philip Prowse   \n",
       "\n",
       "  year_of_publication                   publisher  user_id_ordered  \\\n",
       "0                2002            Ballantine Books                0   \n",
       "1                2001                      Heinle                1   \n",
       "2                1996                Warner Books                2   \n",
       "3                1996                Warner Books                3   \n",
       "4                1999  Cambridge University Press                4   \n",
       "\n",
       "   isbn_ordered  \n",
       "0             0  \n",
       "1             1  \n",
       "2             2  \n",
       "3             2  \n",
       "4             3  "
      ]
     },
     "execution_count": 36,
     "metadata": {},
     "output_type": "execute_result"
    }
   ],
   "source": [
    "Dataframe.head()"
   ]
  },
  {
   "cell_type": "markdown",
   "id": "dd588efc",
   "metadata": {},
   "source": [
    "# Re-index the columns to build a matrix"
   ]
  },
  {
   "cell_type": "code",
   "execution_count": 37,
   "id": "42b8718c",
   "metadata": {
    "tags": []
   },
   "outputs": [
    {
     "data": {
      "text/html": [
       "<div>\n",
       "<style scoped>\n",
       "    .dataframe tbody tr th:only-of-type {\n",
       "        vertical-align: middle;\n",
       "    }\n",
       "\n",
       "    .dataframe tbody tr th {\n",
       "        vertical-align: top;\n",
       "    }\n",
       "\n",
       "    .dataframe thead th {\n",
       "        text-align: right;\n",
       "    }\n",
       "</style>\n",
       "<table border=\"1\" class=\"dataframe\">\n",
       "  <thead>\n",
       "    <tr style=\"text-align: right;\">\n",
       "      <th></th>\n",
       "      <th>user_id_ordered</th>\n",
       "      <th>isbn_ordered</th>\n",
       "      <th>rating</th>\n",
       "      <th>book_title</th>\n",
       "      <th>book_author</th>\n",
       "      <th>year_of_publication</th>\n",
       "      <th>publisher</th>\n",
       "    </tr>\n",
       "  </thead>\n",
       "  <tbody>\n",
       "    <tr>\n",
       "      <th>0</th>\n",
       "      <td>0</td>\n",
       "      <td>0</td>\n",
       "      <td>0</td>\n",
       "      <td>Flesh Tones: A Novel</td>\n",
       "      <td>M. J. Rose</td>\n",
       "      <td>2002</td>\n",
       "      <td>Ballantine Books</td>\n",
       "    </tr>\n",
       "    <tr>\n",
       "      <th>1</th>\n",
       "      <td>1</td>\n",
       "      <td>1</td>\n",
       "      <td>5</td>\n",
       "      <td>Rites of Passage</td>\n",
       "      <td>Judith Rae</td>\n",
       "      <td>2001</td>\n",
       "      <td>Heinle</td>\n",
       "    </tr>\n",
       "    <tr>\n",
       "      <th>2</th>\n",
       "      <td>2</td>\n",
       "      <td>2</td>\n",
       "      <td>0</td>\n",
       "      <td>The Notebook</td>\n",
       "      <td>Nicholas Sparks</td>\n",
       "      <td>1996</td>\n",
       "      <td>Warner Books</td>\n",
       "    </tr>\n",
       "    <tr>\n",
       "      <th>3</th>\n",
       "      <td>3</td>\n",
       "      <td>2</td>\n",
       "      <td>0</td>\n",
       "      <td>The Notebook</td>\n",
       "      <td>Nicholas Sparks</td>\n",
       "      <td>1996</td>\n",
       "      <td>Warner Books</td>\n",
       "    </tr>\n",
       "    <tr>\n",
       "      <th>4</th>\n",
       "      <td>4</td>\n",
       "      <td>3</td>\n",
       "      <td>3</td>\n",
       "      <td>Help!: Level 1</td>\n",
       "      <td>Philip Prowse</td>\n",
       "      <td>1999</td>\n",
       "      <td>Cambridge University Press</td>\n",
       "    </tr>\n",
       "    <tr>\n",
       "      <th>...</th>\n",
       "      <td>...</td>\n",
       "      <td>...</td>\n",
       "      <td>...</td>\n",
       "      <td>...</td>\n",
       "      <td>...</td>\n",
       "      <td>...</td>\n",
       "      <td>...</td>\n",
       "    </tr>\n",
       "    <tr>\n",
       "      <th>8696</th>\n",
       "      <td>96</td>\n",
       "      <td>8046</td>\n",
       "      <td>7</td>\n",
       "      <td>A Map of the World</td>\n",
       "      <td>Jane Hamilton</td>\n",
       "      <td>1999</td>\n",
       "      <td>Anchor Books/Doubleday</td>\n",
       "    </tr>\n",
       "    <tr>\n",
       "      <th>8697</th>\n",
       "      <td>96</td>\n",
       "      <td>8047</td>\n",
       "      <td>0</td>\n",
       "      <td>The Accidental Tourist</td>\n",
       "      <td>Anne Tyler</td>\n",
       "      <td>1994</td>\n",
       "      <td>Berkley Publishing Group</td>\n",
       "    </tr>\n",
       "    <tr>\n",
       "      <th>8698</th>\n",
       "      <td>96</td>\n",
       "      <td>8048</td>\n",
       "      <td>0</td>\n",
       "      <td>If Morning Ever Comes</td>\n",
       "      <td>Anne Tyler</td>\n",
       "      <td>1983</td>\n",
       "      <td>Berkley Publishing Group</td>\n",
       "    </tr>\n",
       "    <tr>\n",
       "      <th>8699</th>\n",
       "      <td>96</td>\n",
       "      <td>8049</td>\n",
       "      <td>9</td>\n",
       "      <td>Unnatural Exposure</td>\n",
       "      <td>Patricia Daniels Cornwell</td>\n",
       "      <td>1998</td>\n",
       "      <td>Berkley Publishing Group</td>\n",
       "    </tr>\n",
       "    <tr>\n",
       "      <th>8700</th>\n",
       "      <td>96</td>\n",
       "      <td>8050</td>\n",
       "      <td>0</td>\n",
       "      <td>Only Love (Magical Love)</td>\n",
       "      <td>Erich Segal</td>\n",
       "      <td>1998</td>\n",
       "      <td>Berkley Publishing Group</td>\n",
       "    </tr>\n",
       "  </tbody>\n",
       "</table>\n",
       "<p>8701 rows × 7 columns</p>\n",
       "</div>"
      ],
      "text/plain": [
       "      user_id_ordered  isbn_ordered  rating                book_title  \\\n",
       "0                   0             0       0      Flesh Tones: A Novel   \n",
       "1                   1             1       5          Rites of Passage   \n",
       "2                   2             2       0              The Notebook   \n",
       "3                   3             2       0              The Notebook   \n",
       "4                   4             3       3            Help!: Level 1   \n",
       "...               ...           ...     ...                       ...   \n",
       "8696               96          8046       7        A Map of the World   \n",
       "8697               96          8047       0    The Accidental Tourist   \n",
       "8698               96          8048       0     If Morning Ever Comes   \n",
       "8699               96          8049       9        Unnatural Exposure   \n",
       "8700               96          8050       0  Only Love (Magical Love)   \n",
       "\n",
       "                    book_author year_of_publication  \\\n",
       "0                    M. J. Rose                2002   \n",
       "1                    Judith Rae                2001   \n",
       "2               Nicholas Sparks                1996   \n",
       "3               Nicholas Sparks                1996   \n",
       "4                 Philip Prowse                1999   \n",
       "...                         ...                 ...   \n",
       "8696              Jane Hamilton                1999   \n",
       "8697                 Anne Tyler                1994   \n",
       "8698                 Anne Tyler                1983   \n",
       "8699  Patricia Daniels Cornwell                1998   \n",
       "8700                Erich Segal                1998   \n",
       "\n",
       "                       publisher  \n",
       "0               Ballantine Books  \n",
       "1                         Heinle  \n",
       "2                   Warner Books  \n",
       "3                   Warner Books  \n",
       "4     Cambridge University Press  \n",
       "...                          ...  \n",
       "8696      Anchor Books/Doubleday  \n",
       "8697    Berkley Publishing Group  \n",
       "8698    Berkley Publishing Group  \n",
       "8699    Berkley Publishing Group  \n",
       "8700    Berkley Publishing Group  \n",
       "\n",
       "[8701 rows x 7 columns]"
      ]
     },
     "execution_count": 37,
     "metadata": {},
     "output_type": "execute_result"
    }
   ],
   "source": [
    "new_columns=['user_id_ordered','isbn_ordered','rating','book_title','book_author','year_of_publication','publisher']\n",
    "Dataframe=Dataframe.reindex(columns=new_columns)\n",
    "Dataframe"
   ]
  },
  {
   "cell_type": "markdown",
   "id": "b09e8c60",
   "metadata": {},
   "source": [
    "# Split your data into two sets (training and testing)"
   ]
  },
  {
   "cell_type": "code",
   "execution_count": 38,
   "id": "b5d087c0",
   "metadata": {},
   "outputs": [],
   "source": [
    "from sklearn.model_selection import train_test_split\n",
    "train_data,test_data=train_test_split(Dataframe,test_size=0.3)"
   ]
  },
  {
   "cell_type": "markdown",
   "id": "1bbcfa65",
   "metadata": {},
   "source": [
    "creating two user-book matrices"
   ]
  },
  {
   "cell_type": "code",
   "execution_count": 39,
   "id": "31c4162b",
   "metadata": {},
   "outputs": [],
   "source": [
    "train_data_matrix=np.zeros([n_users,n_books])\n",
    "for line in train_data.itertuples():\n",
    "    train_data_matrix[line[1]-1,line[2]-1]=line[3]"
   ]
  },
  {
   "cell_type": "code",
   "execution_count": 40,
   "id": "419698e2",
   "metadata": {},
   "outputs": [],
   "source": [
    "test_data_matrix=np.zeros([n_users,n_books])\n",
    "for line in test_data.itertuples():\n",
    "    test_data_matrix[line[1]-1,line[2]-1]=line[3]"
   ]
  },
  {
   "cell_type": "markdown",
   "id": "df5e9b42",
   "metadata": {},
   "source": [
    "using pairwise distances to check cosine similarity"
   ]
  },
  {
   "cell_type": "code",
   "execution_count": 41,
   "id": "3d44dc24",
   "metadata": {},
   "outputs": [],
   "source": [
    "from sklearn.metrics.pairwise import pairwise_distances\n",
    "user_similarity=pairwise_distances(train_data_matrix,metric='cosine')\n",
    "item_similarity=pairwise_distances(train_data_matrix.T,metric='cosine')"
   ]
  },
  {
   "cell_type": "code",
   "execution_count": 42,
   "id": "e964e4fc",
   "metadata": {},
   "outputs": [
    {
     "data": {
      "text/plain": [
       "array([[0., 1., 1., ..., 1., 1., 1.],\n",
       "       [1., 0., 1., ..., 1., 1., 1.],\n",
       "       [1., 1., 0., ..., 1., 1., 1.],\n",
       "       ...,\n",
       "       [1., 1., 1., ..., 0., 1., 1.],\n",
       "       [1., 1., 1., ..., 1., 0., 1.],\n",
       "       [1., 1., 1., ..., 1., 1., 0.]])"
      ]
     },
     "execution_count": 42,
     "metadata": {},
     "output_type": "execute_result"
    }
   ],
   "source": [
    "user_similarity"
   ]
  },
  {
   "cell_type": "code",
   "execution_count": 43,
   "id": "cf6074b1",
   "metadata": {},
   "outputs": [
    {
     "data": {
      "text/plain": [
       "array([[0., 1., 1., ..., 1., 1., 1.],\n",
       "       [1., 0., 1., ..., 1., 1., 1.],\n",
       "       [1., 1., 0., ..., 1., 1., 1.],\n",
       "       ...,\n",
       "       [1., 1., 1., ..., 0., 1., 1.],\n",
       "       [1., 1., 1., ..., 1., 0., 1.],\n",
       "       [1., 1., 1., ..., 1., 1., 0.]])"
      ]
     },
     "execution_count": 43,
     "metadata": {},
     "output_type": "execute_result"
    }
   ],
   "source": [
    "item_similarity"
   ]
  },
  {
   "cell_type": "markdown",
   "id": "ab6a5148",
   "metadata": {},
   "source": [
    "# Making predictions based on user and item variables"
   ]
  },
  {
   "cell_type": "code",
   "execution_count": 44,
   "id": "beb22706",
   "metadata": {},
   "outputs": [],
   "source": [
    "def predict(ratings, similarity, type='user'):\n",
    "    if type == 'user':\n",
    "        mean_user_rating = ratings.mean(axis=1)\n",
    "        ratings_diff = (ratings - mean_user_rating[:, np.newaxis]) \n",
    "        pred = mean_user_rating[:, np.newaxis] + similarity.dot(ratings_diff) / np.array([np.abs(similarity).sum(axis=1)]).T\n",
    "    elif type == 'item':\n",
    "        pred = ratings.dot(similarity) / np.array([np.abs(similarity).sum(axis=1)])     \n",
    "    return pred"
   ]
  },
  {
   "cell_type": "code",
   "execution_count": 45,
   "id": "486006f3",
   "metadata": {},
   "outputs": [],
   "source": [
    "item_prediction=predict(test_data_matrix,item_similarity,type='item')\n",
    "user_prediction=predict(test_data_matrix,user_similarity,type='user')"
   ]
  },
  {
   "cell_type": "code",
   "execution_count": 46,
   "id": "c34081ae",
   "metadata": {},
   "outputs": [
    {
     "data": {
      "text/plain": [
       "array([[0.        , 0.        , 0.        , ..., 0.        , 0.        ,\n",
       "        0.        ],\n",
       "       [0.        , 0.        , 0.        , ..., 0.        , 0.        ,\n",
       "        0.        ],\n",
       "       [0.02322981, 0.02322981, 0.02322981, ..., 0.02324545, 0.02322981,\n",
       "        0.02322981],\n",
       "       ...,\n",
       "       [0.        , 0.        , 0.        , ..., 0.        , 0.        ,\n",
       "        0.        ],\n",
       "       [0.        , 0.        , 0.        , ..., 0.        , 0.        ,\n",
       "        0.        ],\n",
       "       [0.        , 0.        , 0.        , ..., 0.        , 0.        ,\n",
       "        0.        ]])"
      ]
     },
     "execution_count": 46,
     "metadata": {},
     "output_type": "execute_result"
    }
   ],
   "source": [
    "item_prediction"
   ]
  },
  {
   "cell_type": "code",
   "execution_count": 47,
   "id": "bc67cedb",
   "metadata": {},
   "outputs": [
    {
     "data": {
      "text/plain": [
       "array([[-0.00073714, -0.00073714,  0.00289043, ..., -0.00073714,\n",
       "        -0.00073714, -0.00073714],\n",
       "       [-0.00073714, -0.00073714,  0.00289043, ..., -0.00073714,\n",
       "        -0.00073714, -0.00073714],\n",
       "       [ 0.02251778,  0.02251778,  0.02614585, ...,  0.02251778,\n",
       "         0.02251778,  0.02251778],\n",
       "       ...,\n",
       "       [-0.00073714, -0.00073714,  0.00289043, ..., -0.00073714,\n",
       "        -0.00073714, -0.00073714],\n",
       "       [-0.00073714, -0.00073714,  0.00289043, ..., -0.00073714,\n",
       "        -0.00073714, -0.00073714],\n",
       "       [-0.00073714, -0.00073714,  0.00289043, ..., -0.00073714,\n",
       "        -0.00073714, -0.00073714]])"
      ]
     },
     "execution_count": 47,
     "metadata": {},
     "output_type": "execute_result"
    }
   ],
   "source": [
    "user_prediction"
   ]
  },
  {
   "cell_type": "markdown",
   "id": "cd49e486",
   "metadata": {},
   "source": [
    "# Use RMSE to evaluate the predictions"
   ]
  },
  {
   "cell_type": "code",
   "execution_count": 48,
   "id": "8d501093",
   "metadata": {},
   "outputs": [],
   "source": [
    "from sklearn.metrics import mean_squared_error\n",
    "from math import sqrt\n",
    "def rmse(prediction, ground_truth):\n",
    "    prediction = prediction[ground_truth.nonzero()].flatten() \n",
    "    ground_truth = ground_truth[ground_truth.nonzero()].flatten()\n",
    "    return sqrt(mean_squared_error(prediction, ground_truth))"
   ]
  },
  {
   "cell_type": "code",
   "execution_count": 49,
   "id": "80b2bbb6",
   "metadata": {},
   "outputs": [
    {
     "name": "stdout",
     "output_type": "stream",
     "text": [
      "User-based CF RMSE: 7.678649622020115\n",
      "Item-based CF RMSE: 7.679310516921285\n"
     ]
    }
   ],
   "source": [
    "print('User-based CF RMSE: ' + str(rmse(user_prediction, test_data_matrix)))\n",
    "print('Item-based CF RMSE: ' + str(rmse(item_prediction, test_data_matrix)))"
   ]
  },
  {
   "cell_type": "markdown",
   "id": "e5ea62d8",
   "metadata": {},
   "source": [
    "BOTH THE APPROACH YEILDS ALMOST SAME RESULT"
   ]
  }
 ],
 "metadata": {
  "kernelspec": {
   "display_name": "Python 3 (ipykernel)",
   "language": "python",
   "name": "python3"
  },
  "language_info": {
   "codemirror_mode": {
    "name": "ipython",
    "version": 3
   },
   "file_extension": ".py",
   "mimetype": "text/x-python",
   "name": "python",
   "nbconvert_exporter": "python",
   "pygments_lexer": "ipython3",
   "version": "3.9.7"
  }
 },
 "nbformat": 4,
 "nbformat_minor": 5
}
